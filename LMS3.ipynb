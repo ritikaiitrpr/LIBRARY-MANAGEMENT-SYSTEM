{
  "nbformat": 4,
  "nbformat_minor": 0,
  "metadata": {
    "colab": {
      "provenance": [],
      "authorship_tag": "ABX9TyOJ3ktYBT94s20/vfvJ09n8",
      "include_colab_link": true
    },
    "kernelspec": {
      "name": "python3",
      "display_name": "Python 3"
    },
    "language_info": {
      "name": "python"
    }
  },
  "cells": [
    {
      "cell_type": "markdown",
      "metadata": {
        "id": "view-in-github",
        "colab_type": "text"
      },
      "source": [
        "<a href=\"https://colab.research.google.com/github/ritikaiitrpr/LIBRARY-MANAGEMENT-SYSTEM/blob/main/LMS3.ipynb\" target=\"_parent\"><img src=\"https://colab.research.google.com/assets/colab-badge.svg\" alt=\"Open In Colab\"/></a>"
      ]
    },
    {
      "cell_type": "markdown",
      "source": [
        "USING LISTS IN MY CASE-STUDY (LMS):\n"
      ],
      "metadata": {
        "id": "urZPZ9StTioR"
      }
    },
    {
      "cell_type": "code",
      "source": [
        "\n",
        "#CREATING LIST OF MEMBERS IN THE LMS :\n",
        "\n",
        "mem1=[\"ARUN\",\"SHIVAM\",\"JOHN\",\"PRIYA\",\"JIYA\",\"PIHU\",\"RAJU\",\"GAURAV\",\"ANANYA\",\"MAAHI\",\"JEEETU\",\"LUCKY\",\"SHUBHAM\",\"KIRAN\",\"RASHMI\",\"RITIKA\",\"NEHA\"]\n",
        "\n",
        "#CREATING LIST OF AUTHORS:\n",
        "auth=[\"William Shakespeare\",\"Jane Austen\",\"Charles Dickens\",\n",
        "\"George Orwell\"\"Mark Twain\" ,\"J.K. Rowling\",\"F. Scott Fitzgerald\",\"Toni Morrison\",\"Ernest Hemingway\",\"Agatha Christie\",\"Gabriel García Márquez\",\"Harper Lee\",\"J.R.R. Tolkien\",\"Virginia Woolf\",\"Stephen King\",\"Leo Tolstoy\",\"Emily Brontë\",\"George R.R. Martin\",\"Salman Rushdie\",\"Maya Angelou\"]\n",
        "\n",
        "\n",
        "#TAKING INPUT FROM USER TO KNOW THE AUTHOR TO SEARCH:\n",
        "\n",
        "#making use of break and continue statement in the program:\n",
        "choice = str(input(\"Enter the name of author you want to search in the lms\"))\n",
        "for rh in auth:\n",
        "  if choice:\n",
        "    print(\"This author's book is available \")\n",
        "    break\n",
        "  else:\n",
        "    continue\n",
        "    print(\"give an order to add this book\")"
      ],
      "metadata": {
        "colab": {
          "base_uri": "https://localhost:8080/"
        },
        "id": "Q51O4h9UTwrj",
        "outputId": "f95fb01a-3aab-4f25-a6ed-4564ea01a5de"
      },
      "execution_count": null,
      "outputs": [
        {
          "output_type": "stream",
          "name": "stdout",
          "text": [
            "Enter the name of author you want to search in the lmsJ.K. Rowling\n",
            "This author's book is available \n"
          ]
        }
      ]
    },
    {
      "cell_type": "code",
      "source": [
        "#CREATING LIST OF BOOKS TO BE ORDERED BY A SPECIFIC AUTHOR:\n",
        "\n",
        "li=[]# CREATING AN EMPTY LIST TO STORE BOOKS TO BE ORDERED\n",
        "\n",
        "x=int(input(\"Enter the number of authors whose book has to be ordered\"))# TAKING INPUT FOR THE NUMBER OF AUTHORS ALONG WITH THEIR BOOKS TO BE ORDERED\n",
        "for k in range(x):\n",
        "  y=str(input(\"enter the name of author whose book you want to order\"))\n",
        "  gh=int(input(\"Enter the number of books you want to order\"))\n",
        "  for j in range(gh):\n",
        "    order_Book=str(input(\"Enter the name of books you want to order\"))\n",
        "    li.append(order_Book)\n",
        "   # PRINTING LIST OF BOOKS TO BE ORDERED:\n",
        "  print(li)\n",
        "\n",
        "   #DISPLAYING RECORD OF AUTHORS ALONG WITH THEIR BOOKS TO BE ORDERED:\n",
        "  dictt = {\"AUTHOR-NAME\":y,\"BOOK_TO _ORDER\":li}\n",
        "  print(dictt)\n",
        "  li=[]\n",
        "\n",
        "\n",
        "\n",
        "\n",
        "\n",
        "\n",
        "\n",
        "\n",
        "\n"
      ],
      "metadata": {
        "colab": {
          "base_uri": "https://localhost:8080/"
        },
        "id": "uSHfSqMNXunX",
        "outputId": "79972c12-4524-4843-d69f-16b979cc6640"
      },
      "execution_count": null,
      "outputs": [
        {
          "output_type": "stream",
          "name": "stdout",
          "text": [
            "Enter the number of authors whose book has to be ordered2\n",
            "enter the name of author whose book you want to orderww\n",
            "Enter the number of books you want to order2\n",
            "Enter the name of books you want to orderq\n",
            "Enter the name of books you want to ordera\n",
            "['q', 'a']\n",
            "{'AUTHOR-NAME': 'ww', 'BOOK_TO _ORDER': ['q', 'a']}\n",
            "enter the name of author whose book you want to orderwww\n",
            "Enter the number of books you want to order2\n",
            "Enter the name of books you want to orderee\n",
            "Enter the name of books you want to orderee\n",
            "['ee', 'ee']\n",
            "{'AUTHOR-NAME': 'www', 'BOOK_TO _ORDER': ['ee', 'ee']}\n"
          ]
        }
      ]
    },
    {
      "cell_type": "code",
      "source": [
        "#MAKING CHANGES IN EXISTING LMS:\n",
        "\n",
        "\n",
        "while True:\n",
        "  #OPERATIONS THAT CAN BE PERFORMED BY THE USER:\n",
        "\n",
        "          print(' Welcome to the  of the Library Menu: ')\n",
        "          print('\\n1.  Add  New Member ')#ADDING MEMEBER TO AN EXISTING LIST\n",
        "          print('\\n2.  Add a Book ') #ADDING NEW BOOK TO THE LMS\n",
        "          print('\\n3.  Issue a Book')#ISSUEING A BOOK FROM LMS\n",
        "          print('\\n4.  Return a Book ')#RETURNING A BOOK TO LMS\n",
        "          print('\\n\\n')\n",
        "\n",
        "\n",
        "          # ENTER THE CHOICE YOU WISH TO PERFORM\n",
        "          ch = int(input('Enter your choice: '))\n",
        "\n",
        "# PERFORMING OPERATIONS BASED ON THE CHOICE ENTERED BY THE USER:\n",
        "\n",
        "\n",
        "          # 1. IF CHOICE IS 1 THEN ADDING MEMBERS TO THE LIBRARY:\n",
        "\n",
        "          if ch == 1:\n",
        "            mem=int(input(\"Enter the number of members to be added\"))\n",
        "            n=[] # CREATING AN EMPTY LIST TO STORE THE NAMES OF THE NEW MEMBER\n",
        "            p=[] # CREATING AN EMPTY LIST TO STORE THE PHONE NUMBER OF THE NEW MEMBER\n",
        "            d=[]# CREATING AN EMPTY LIST TO STORE THE DEPARTMENT OF THE NEW MEMBER\n",
        "            liist1=[]\n",
        "\n",
        "            for i in  range(mem):\n",
        "\n",
        "              name = str(input('Enter the Name of the member :'))\n",
        "              n.append(name)\n",
        "              phone = int(input('Enter the Phone-number of the Member :' ))\n",
        "              p.append(phone)\n",
        "              dep = str(input('Enter  the department of the Member :'))\n",
        "              d.append(dep)\n",
        "               # CREATING A DICTIONARY TO STORE NAMES AND BOOKS ISSUED BY THEM\n",
        "              user_info={'NAME':name,'BOOKS_ISSUED':[]}\n",
        "              liist1.append(user_info) # LIST OF DICTIONARY\n",
        "              print(liist1)\n",
        "              print(\"\\n\\n\")\n",
        "               #PRINTING THE DETAILS OF MEMBER BY USING LIST:\n",
        "              mylist=[\"Name=\",n,\"Phone:\",p,\"Department\",d]\n",
        "              print(mylist)\n",
        "\n",
        "\n",
        " # 2. IF THE CHOICE IS 2 THEN ADDING BOOKS ALONG WITH THEIR AUTHORS IN THE LMS\n",
        "\n",
        "          elif ch == 2:\n",
        "            liist=[]# CREATING AN EMPTY LIST TO APPEND MULTIPLE DICTIONARIES\n",
        "           # Initialize an empty dictionary\n",
        "            my_dict = {}\n",
        "            t=[] #list of books\n",
        "            a=[]#list of authors\n",
        "            book_author=[] # making a list of only book and authors\n",
        "\n",
        "            # NUMBER OF BOOKS TO BE ADDED IN THE LMS\n",
        "            num_books=int(input(\"Enter the no of books to be added:\"))\n",
        "\n",
        "            for i in range(num_books):\n",
        "              title=str(input(\"Enter Title of the book\"))\n",
        "              t.append(title)\n",
        "              #my_dict['title']=title\n",
        "              author= str(input(\"Enter the author of the book\"))\n",
        "              a.append(author)\n",
        "              #my_dict['author']=author\n",
        "              avail =bool(input(\"Enter whether books are available or not(True/Falase)\"))\n",
        "              #my_dict['available']=avail\n",
        "\n",
        " # Creating a dictionary with user inputs and append it to the list\n",
        "              my_dict = {'TITLE': title, 'AUTHOR': author, 'AVAILABLE': avail}\n",
        "              liist.append(my_dict)\n",
        "\n",
        "            print(liist)\n",
        "\n",
        "\n",
        "\n",
        "            # IF THE CHOICE IS 3 THEN ISSUE A BOOK FROM LMS\n",
        "          elif ch == 3:\n",
        "            input_name=str(input(\"enter your name\"))\n",
        "            input_book=str(input(\"enter the name of book to be issued\"))\n",
        "\n",
        "            # TRAVERSING THROUGH NAME IN 'n' LIST AND 'TITLE' KEY IN LIIST DICTIONARY TO CHECK THE AVAILABILTY OF BOOK:\n",
        "            for user in n:\n",
        "                if user_info['NAME'] == input_name:\n",
        "\n",
        "                  for book in liist:\n",
        "\n",
        "                    if book['TITLE']==input_book and book['AVAILABLE']:\n",
        "                      user_info['BOOKS_ISSUED'].append(book) # ADDING THE ISSUED BOOK TO ITS PROFILE\n",
        "                      book['AVAILABLE'] = False # CHANGING AVAILABILTY OF THAT PARTICULAR BOOK TO FALSE(NOT-AVAILABLE)\n",
        "                      print(\" The member has succesfully borrowed the book\")\n",
        "                      break\n",
        "                    #print(\"The book is not available\")\n",
        "                    #break\n",
        "                #print(\" User not found\")\n",
        "\n",
        "\n",
        "\n",
        "\n",
        "            # IF THE CHOICE IS 4 THEN RETURN A BOOK TO THE LMS:\n",
        "          elif ch ==4:\n",
        "             input_name=str(input(\"enter your name\"))\n",
        "             input_book=str(input(\"enter book name\"))\n",
        "\n",
        "             # TRAVERSING THROUGH NAME IN 'n' LIST AND 'BOOKS_ISSUED' KEY IN USER_INFO DICTIONARY TO CHECK THE ISSUED BOOK FOR RETURN:\n",
        "             for user1 in n:\n",
        "                if user1 == input_name:\n",
        "                   for book1 in user_info['BOOKS_ISSUED']:\n",
        "\n",
        "                    if book1['TITLE'] == input_book:\n",
        "                      book1['AVAILABLE'] = True # AFTER RETURNING,THE BOOK IS AVAILABLE FOR OTHERS TO ISSUE\n",
        "                      user_info['BOOKS_ISSUED'].remove(book1) # REMOVING THE ISSUED BOOK FROM THE USER'S PROFILE\n",
        "                      print(\"The user has successfully returned the book\")\n",
        "                      #break\n",
        "                   #print(\"The Book was not issued\")\n",
        "\n",
        "             #print(\"The username is not found\")\n",
        "\n",
        "        # GENERATING THE REPORT FOR THE LMS:\n",
        "\n",
        "          elif ch ==5:\n",
        "            print(\"GENERATING THE REPORT \")\n",
        "            while True:\n",
        "              rh= int (input(\"Enter the choice for which you want the report\"))\n",
        "              if rh == 1:\n",
        "                #GIVING LIST OF ALL THE MEMEBERS REGISTERED IN THE LMS\n",
        "                print(\"The records of all the members registered in the LMS:\")\n",
        "                print(n)\n",
        "\n",
        "              elif rh == 2:# GIVING LIST OF ALL BOOKS-AUTHORS AVAILABLE IN THE LMS\n",
        "                print(\"The records of all the books registered in the LMS:\")\n",
        "                book_author=[\"Book-title\",t,\"book-author\",a]\n",
        "                print(book_author)\n",
        "\n",
        "              elif rh == 3:# GIVING LIST OF ISSUED BOOKS IN THE LMS\n",
        "                 print(\"The list of issued books\")\n",
        "                 print(liist1)\n",
        "\n",
        "              else:\n",
        "                break\n",
        "\n",
        "\n",
        "          else:\n",
        "            break\n",
        "\n",
        "\n",
        "\n",
        "\n",
        "\n",
        "\n",
        "\n",
        "\n",
        "\n"
      ],
      "metadata": {
        "colab": {
          "base_uri": "https://localhost:8080/",
          "height": 895
        },
        "id": "dUMC-GrtTngD",
        "outputId": "8cf75908-48d7-4cb2-857a-d14764a4883c"
      },
      "execution_count": null,
      "outputs": [
        {
          "metadata": {
            "tags": null
          },
          "name": "stdout",
          "output_type": "stream",
          "text": [
            " Welcome to the  of the Library Menu: \n",
            "\n",
            "1.  Add  New Member \n",
            "\n",
            "2.  Add a Book \n",
            "\n",
            "3.  Issue a Book\n",
            "\n",
            "4.  Return a Book \n",
            "\n",
            "\n",
            "\n",
            "[{'NAME': 'W', 'BOOKS_ISSUED': []}]\n",
            "\n",
            "\n",
            "\n",
            "['Name=', ['W'], 'Phone:', [2], 'Department', ['W']]\n",
            " Welcome to the  of the Library Menu: \n",
            "\n",
            "1.  Add  New Member \n",
            "\n",
            "2.  Add a Book \n",
            "\n",
            "3.  Issue a Book\n",
            "\n",
            "4.  Return a Book \n",
            "\n",
            "\n",
            "\n"
          ]
        },
        {
          "output_type": "error",
          "ename": "KeyboardInterrupt",
          "evalue": "ignored",
          "traceback": [
            "\u001b[0;31m---------------------------------------------------------------------------\u001b[0m",
            "\u001b[0;31mKeyboardInterrupt\u001b[0m                         Traceback (most recent call last)",
            "\u001b[0;32m<ipython-input-21-4a45a6bf1278>\u001b[0m in \u001b[0;36m<cell line: 2>\u001b[0;34m()\u001b[0m\n\u001b[1;32m     12\u001b[0m \u001b[0;34m\u001b[0m\u001b[0m\n\u001b[1;32m     13\u001b[0m           \u001b[0;31m# ENTER THE CHOICE YOU WISH TO PERFORM\u001b[0m\u001b[0;34m\u001b[0m\u001b[0;34m\u001b[0m\u001b[0m\n\u001b[0;32m---> 14\u001b[0;31m           \u001b[0mch\u001b[0m \u001b[0;34m=\u001b[0m \u001b[0mint\u001b[0m\u001b[0;34m(\u001b[0m\u001b[0minput\u001b[0m\u001b[0;34m(\u001b[0m\u001b[0;34m'Enter your choice: '\u001b[0m\u001b[0;34m)\u001b[0m\u001b[0;34m)\u001b[0m\u001b[0;34m\u001b[0m\u001b[0;34m\u001b[0m\u001b[0m\n\u001b[0m\u001b[1;32m     15\u001b[0m \u001b[0;34m\u001b[0m\u001b[0m\n\u001b[1;32m     16\u001b[0m \u001b[0;31m# PERFORMING OPERATIONS BASED ON THE CHOICE ENTERED BY THE USER:\u001b[0m\u001b[0;34m\u001b[0m\u001b[0;34m\u001b[0m\u001b[0m\n",
            "\u001b[0;32m/usr/local/lib/python3.10/dist-packages/ipykernel/kernelbase.py\u001b[0m in \u001b[0;36mraw_input\u001b[0;34m(self, prompt)\u001b[0m\n\u001b[1;32m    849\u001b[0m                 \u001b[0;34m\"raw_input was called, but this frontend does not support input requests.\"\u001b[0m\u001b[0;34m\u001b[0m\u001b[0;34m\u001b[0m\u001b[0m\n\u001b[1;32m    850\u001b[0m             )\n\u001b[0;32m--> 851\u001b[0;31m         return self._input_request(str(prompt),\n\u001b[0m\u001b[1;32m    852\u001b[0m             \u001b[0mself\u001b[0m\u001b[0;34m.\u001b[0m\u001b[0m_parent_ident\u001b[0m\u001b[0;34m,\u001b[0m\u001b[0;34m\u001b[0m\u001b[0;34m\u001b[0m\u001b[0m\n\u001b[1;32m    853\u001b[0m             \u001b[0mself\u001b[0m\u001b[0;34m.\u001b[0m\u001b[0m_parent_header\u001b[0m\u001b[0;34m,\u001b[0m\u001b[0;34m\u001b[0m\u001b[0;34m\u001b[0m\u001b[0m\n",
            "\u001b[0;32m/usr/local/lib/python3.10/dist-packages/ipykernel/kernelbase.py\u001b[0m in \u001b[0;36m_input_request\u001b[0;34m(self, prompt, ident, parent, password)\u001b[0m\n\u001b[1;32m    893\u001b[0m             \u001b[0;32mexcept\u001b[0m \u001b[0mKeyboardInterrupt\u001b[0m\u001b[0;34m:\u001b[0m\u001b[0;34m\u001b[0m\u001b[0;34m\u001b[0m\u001b[0m\n\u001b[1;32m    894\u001b[0m                 \u001b[0;31m# re-raise KeyboardInterrupt, to truncate traceback\u001b[0m\u001b[0;34m\u001b[0m\u001b[0;34m\u001b[0m\u001b[0m\n\u001b[0;32m--> 895\u001b[0;31m                 \u001b[0;32mraise\u001b[0m \u001b[0mKeyboardInterrupt\u001b[0m\u001b[0;34m(\u001b[0m\u001b[0;34m\"Interrupted by user\"\u001b[0m\u001b[0;34m)\u001b[0m \u001b[0;32mfrom\u001b[0m \u001b[0;32mNone\u001b[0m\u001b[0;34m\u001b[0m\u001b[0;34m\u001b[0m\u001b[0m\n\u001b[0m\u001b[1;32m    896\u001b[0m             \u001b[0;32mexcept\u001b[0m \u001b[0mException\u001b[0m \u001b[0;32mas\u001b[0m \u001b[0me\u001b[0m\u001b[0;34m:\u001b[0m\u001b[0;34m\u001b[0m\u001b[0;34m\u001b[0m\u001b[0m\n\u001b[1;32m    897\u001b[0m                 \u001b[0mself\u001b[0m\u001b[0;34m.\u001b[0m\u001b[0mlog\u001b[0m\u001b[0;34m.\u001b[0m\u001b[0mwarning\u001b[0m\u001b[0;34m(\u001b[0m\u001b[0;34m\"Invalid Message:\"\u001b[0m\u001b[0;34m,\u001b[0m \u001b[0mexc_info\u001b[0m\u001b[0;34m=\u001b[0m\u001b[0;32mTrue\u001b[0m\u001b[0;34m)\u001b[0m\u001b[0;34m\u001b[0m\u001b[0;34m\u001b[0m\u001b[0m\n",
            "\u001b[0;31mKeyboardInterrupt\u001b[0m: Interrupted by user"
          ]
        }
      ]
    }
  ]
}